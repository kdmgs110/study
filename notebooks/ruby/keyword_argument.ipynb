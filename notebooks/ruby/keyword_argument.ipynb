{
 "cells": [
  {
   "cell_type": "markdown",
   "metadata": {},
   "source": [
    "# キーワード引数と位置引数の違いについて理解する"
   ]
  },
  {
   "cell_type": "markdown",
   "metadata": {},
   "source": [
    "- rubyのキーワード引数について理解していなかったのでメモ。\n",
    "- 以下のような関数があるとする。"
   ]
  },
  {
   "cell_type": "code",
   "execution_count": 2,
   "metadata": {},
   "outputs": [
    {
     "data": {
      "text/plain": [
       ":execute"
      ]
     },
     "execution_count": 2,
     "metadata": {},
     "output_type": "execute_result"
    }
   ],
   "source": [
    "def execute(medium, start_date, end_date, article_ids: [])\n",
    "    puts (\"medium: #{medium}, start_date: #{start_date}, end_date: #{end_date}, article_ids: #{article_ids}\")   \n",
    "end"
   ]
  },
  {
   "cell_type": "markdown",
   "metadata": {},
   "source": [
    "* 必須引数の場合、順番に入れてあげればその値を入れてくれる\n",
    "* 一方でキーワード引数(今回の場合だと `article_ids` に関しては、順番通りに指定しても動かない)"
   ]
  },
  {
   "cell_type": "code",
   "execution_count": 1,
   "metadata": {},
   "outputs": [
    {
     "ename": "NoMethodError",
     "evalue": "undefined method `execute' for #<Object:0x00007f686659da00>\nDid you mean?  exec",
     "output_type": "error",
     "traceback": [
      "\u001b[31mNoMethodError\u001b[0m: undefined method `execute' for #<Object:0x00007f686659da00>\nDid you mean?  exec",
      "(irb):3:in `<top (required)>'"
     ]
    }
   ],
   "source": [
    "# キーワード引数に対して、キーワードを指定せず位置引数のように指定すると、位置引数が4つあるように\n",
    "# 解釈されてしまうため、引数が3つに対して4つあるよ！と怒られる。\n",
    "\n",
    "execute(\"メディア1\", \"2022-10-10\", \"2022-10-11\", [1,2,3])"
   ]
  },
  {
   "cell_type": "markdown",
   "metadata": {},
   "source": [
    "* キーワード引数は、位置引数と異なり、位置情報から推定してくれないので、キーワード引数の場合はキーワードも一緒に指定する必要がある。"
   ]
  },
  {
   "cell_type": "code",
   "execution_count": 5,
   "metadata": {},
   "outputs": [
    {
     "name": "stdout",
     "output_type": "stream",
     "text": [
      "medium: メディア1, start_date: 2022-10-10, end_date: 2022-10-11, article_ids: [1, 2, 3]\n"
     ]
    }
   ],
   "source": [
    "execute(\"メディア1\", \"2022-10-10\", \"2022-10-11\", article_ids: [1,2,3])"
   ]
  },
  {
   "cell_type": "markdown",
   "metadata": {},
   "source": [
    "- なお、以下の資料が非常によくまとまっていて分かりやすかった。\n",
    "   - https://www.docswell.com/s/pink_bangbi/KVX8PZ-2022-04-06-204458#p40"
   ]
  },
  {
   "cell_type": "markdown",
   "metadata": {},
   "source": [
    "#  疑問に思ったこと\n",
    "\n",
    "- 実装面でキーワード引数を取るべきタイミングと、位置引数で取るべきタイミングが分からない"
   ]
  }
 ],
 "metadata": {
  "kernelspec": {
   "display_name": "Ruby 3.1.2",
   "language": "ruby",
   "name": "ruby"
  },
  "language_info": {
   "file_extension": ".rb",
   "mimetype": "application/x-ruby",
   "name": "ruby",
   "version": "3.1.2"
  },
  "orig_nbformat": 4,
  "vscode": {
   "interpreter": {
    "hash": "916dbcbb3f70747c44a77c7bcd40155683ae19c65e1c03b4aa3499c5328201f1"
   }
  }
 },
 "nbformat": 4,
 "nbformat_minor": 2
}
